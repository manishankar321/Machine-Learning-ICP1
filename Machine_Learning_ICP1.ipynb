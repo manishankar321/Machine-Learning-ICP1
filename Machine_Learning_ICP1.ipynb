{
  "nbformat": 4,
  "nbformat_minor": 0,
  "metadata": {
    "colab": {
      "provenance": []
    },
    "kernelspec": {
      "name": "python3",
      "display_name": "Python 3"
    },
    "language_info": {
      "name": "python"
    }
  },
  "cells": [
    {
      "cell_type": "markdown",
      "source": [
        "**Question 1**"
      ],
      "metadata": {
        "id": "yZagBXEcIwAD"
      }
    },
    {
      "cell_type": "code",
      "execution_count": null,
      "metadata": {
        "colab": {
          "base_uri": "https://localhost:8080/"
        },
        "id": "9divTlvaqznp",
        "outputId": "f06217eb-94b3-46ff-84c2-0fa8ddf2f69a"
      },
      "outputs": [
        {
          "output_type": "stream",
          "name": "stdout",
          "text": [
            "Sorted ages: [19, 19, 20, 22, 24, 24, 24, 25, 25, 26, 19, 26]\n",
            "Min age: 19\n",
            "Max age: 26\n",
            "Median age: 24.0\n",
            "Average age: 22.75\n",
            "Age range: 7\n"
          ]
        }
      ],
      "source": [
        "# List of ages\n",
        "ages = [19, 22, 19, 24, 20, 25, 26, 24, 25, 24]\n",
        "\n",
        "# Sort the list and find the min and max age\n",
        "ages.sort()\n",
        "min_age = ages[0]\n",
        "max_age = ages[-1]\n",
        "\n",
        "# Add the min age and the max age again to the list\n",
        "ages.append(min_age)\n",
        "ages.append(max_age)\n",
        "\n",
        "# Find the median age\n",
        "n = len(ages)\n",
        "if n % 2 == 0:\n",
        "    median_age = (ages[n // 2 - 1] + ages[n // 2]) / 2\n",
        "else:\n",
        "    median_age = ages[n // 2]\n",
        "\n",
        "# Find the average age\n",
        "average_age = sum(ages) / n\n",
        "\n",
        "# Find the range of the ages (max minus min)\n",
        "age_range = max_age - min_age\n",
        "\n",
        "print(f\"Sorted ages: {ages}\")\n",
        "print(f\"Min age: {min_age}\")\n",
        "print(f\"Max age: {max_age}\")\n",
        "print(f\"Median age: {median_age}\")\n",
        "print(f\"Average age: {average_age:.2f}\")\n",
        "print(f\"Age range: {age_range}\")\n"
      ]
    },
    {
      "cell_type": "markdown",
      "source": [
        "In this we calculated the median by using the formula if n is odd (n+1)/2 if n is even then (sum of 2 middle numbers)/2,and also calculated the average, range"
      ],
      "metadata": {
        "id": "-dN7Wk72N3bl"
      }
    },
    {
      "cell_type": "markdown",
      "source": [
        "**Question 2**"
      ],
      "metadata": {
        "id": "F9O-Ba7bI3fP"
      }
    },
    {
      "cell_type": "code",
      "source": [
        "# Create an empty dictionary called dog\n",
        "dog = {}\n",
        "\n",
        "# Add name, color, breed, legs, age to the dog dictionary\n",
        "dog['name'] = 'Buddy'\n",
        "dog['color'] = 'Brown'\n",
        "dog['breed'] = 'Bulldog'\n",
        "dog['legs'] = 4\n",
        "dog['age'] = 3\n",
        "\n",
        "# Create a student dictionary and add the specified keys\n",
        "student = {\n",
        "    'first_name': 'Prathap',\n",
        "    'last_name': 'Reddy',\n",
        "    'gender': 'Male',\n",
        "    'age': 22,\n",
        "    'marital_status': 'Single',\n",
        "    'skills': ['Python', 'Data structures' ,'Java'],\n",
        "    'country': 'USA',\n",
        "    'city': 'Kansas',\n",
        "    'address': '134 Main St'\n",
        "}\n",
        "\n",
        "# Get the length of the student dictionary\n",
        "student_length = len(student)\n",
        "\n",
        "# Get the value of skills and check the data type\n",
        "skills = student['skills']\n",
        "skills_type = type(skills)\n",
        "\n",
        "# Modify the skills values by adding one or two skills\n",
        "student['skills'].extend(['HTML', 'SQL'])\n",
        "\n",
        "# Get the dictionary keys as a list\n",
        "student_keys = list(student.keys())\n",
        "\n",
        "# Get the dictionary values as a list\n",
        "student_values = list(student.values())\n",
        "\n",
        "print(f\"Dog dictionary: {dog}\")\n",
        "print(f\"Student dictionary: {student}\")\n",
        "print(f\"Length of student dictionary: {student_length}\")\n",
        "print(f\"Skills: {skills}\")\n",
        "print(f\"Data type of skills: {skills_type}\")\n",
        "print(f\"Student dictionary keys: {student_keys}\")\n",
        "print(f\"Student dictionary values: {student_values}\")\n"
      ],
      "metadata": {
        "colab": {
          "base_uri": "https://localhost:8080/"
        },
        "id": "mWDTjXpVuafY",
        "outputId": "9e5d7ac2-ddf9-4d2e-f7d9-1593b228b8a3"
      },
      "execution_count": null,
      "outputs": [
        {
          "output_type": "stream",
          "name": "stdout",
          "text": [
            "Dog dictionary: {'name': 'Buddy', 'color': 'Brown', 'breed': 'Bulldog', 'legs': 4, 'age': 3}\n",
            "Student dictionary: {'first_name': 'Prathap', 'last_name': 'Reddy', 'gender': 'Male', 'age': 22, 'marital_status': 'Single', 'skills': ['Python', 'Data structures', 'Java', 'HTML', 'SQL'], 'country': 'USA', 'city': 'Kansas', 'address': '134 Main St'}\n",
            "Length of student dictionary: 9\n",
            "Skills: ['Python', 'Data structures', 'Java', 'HTML', 'SQL']\n",
            "Data type of skills: <class 'list'>\n",
            "Student dictionary keys: ['first_name', 'last_name', 'gender', 'age', 'marital_status', 'skills', 'country', 'city', 'address']\n",
            "Student dictionary values: ['Prathap', 'Reddy', 'Male', 22, 'Single', ['Python', 'Data structures', 'Java', 'HTML', 'SQL'], 'USA', 'Kansas', '134 Main St']\n"
          ]
        }
      ]
    },
    {
      "cell_type": "markdown",
      "source": [
        "**Question 3**"
      ],
      "metadata": {
        "id": "HiRQ_5DTI65W"
      }
    },
    {
      "cell_type": "code",
      "source": [
        "# Tuples of sisters and brothers\n",
        "sisters = (\"Ammu\", \"Smiley\", \"Chitti\")\n",
        "brothers = (\"Praveen\", \"Yash\", \"Jay\")\n",
        "\n",
        "# Join brothers and sisters tuples to create siblings\n",
        "siblings = sisters + brothers\n",
        "\n",
        "# Count the number of siblings\n",
        "number_of_siblings = len(siblings)\n",
        "\n",
        "# Modify the siblings tuple to add the names of father and mother\n",
        "family_members = siblings + (\"Father\", \"Mother\")\n",
        "print(f\"Sisters: {sisters}\")\n",
        "print(f\"Brothers: {brothers}\")\n",
        "print(f\"Siblings: {siblings}\")\n",
        "print(f\"Number of siblings: {number_of_siblings}\")\n",
        "print(f\"Family members: {family_members}\")\n"
      ],
      "metadata": {
        "colab": {
          "base_uri": "https://localhost:8080/"
        },
        "id": "DaLV_vkewz8s",
        "outputId": "90fd04bc-383e-4fd1-9eb6-61510ed9940c"
      },
      "execution_count": null,
      "outputs": [
        {
          "output_type": "stream",
          "name": "stdout",
          "text": [
            "Sisters: ('Ammu', 'Smiley', 'Chitti')\n",
            "Brothers: ('Praveen', 'Yash', 'Jay')\n",
            "Siblings: ('Ammu', 'Smiley', 'Chitti', 'Praveen', 'Yash', 'Jay')\n",
            "Number of siblings: 6\n",
            "Family members: ('Ammu', 'Smiley', 'Chitti', 'Praveen', 'Yash', 'Jay', 'Father', 'Mother')\n"
          ]
        }
      ]
    },
    {
      "cell_type": "markdown",
      "source": [
        "In this we created two tupils and we added and named siblings and we find the length and we modified the tuple by adding father and mother to it."
      ],
      "metadata": {
        "id": "lgjvBp4qPb45"
      }
    },
    {
      "cell_type": "markdown",
      "source": [
        "**Question 4**"
      ],
      "metadata": {
        "id": "qF3qXxVfI-WX"
      }
    },
    {
      "cell_type": "code",
      "source": [
        "# Define the sets and list\n",
        "it_companies = {'Facebook', 'Google', 'Microsoft', 'Apple', 'IBM', 'Oracle', 'Amazon'}\n",
        "A = {19, 22, 24, 20, 25, 26}\n",
        "B = {19, 22, 20, 25, 26, 24, 28, 27}\n",
        "age = [22, 19, 24, 25, 26, 24, 25, 24]\n",
        "\n",
        "# Find the length of the set it_companies\n",
        "length_it_companies = len(it_companies)\n",
        "print(f\"Length of it_companies: {length_it_companies}\")\n",
        "\n",
        "# Add 'Twitter' to it_companies\n",
        "it_companies.add('Twitter')\n",
        "print(f\"it_companies after adding 'Twitter': {it_companies}\")\n",
        "\n",
        "# Insert multiple IT companies at once to the set it_companies\n",
        "it_companies.update(['TCS', 'LinkedIn', 'MuSigma'])\n",
        "print(f\"it_companies after adding multiple companies: {it_companies}\")\n",
        "\n",
        "# Remove one of the companies from the set it_companies\n",
        "it_companies.remove('Oracle')\n",
        "print(f\"it_companies after removing 'Oracle': {it_companies}\")\n",
        "\n",
        "# Difference between remove and discard\n",
        "# remove() will raise a KeyError if the item does not exist\n",
        "# discard() will not raise an error if the item does not exist\n",
        "try:\n",
        "    it_companies.remove('NonExistentCompany')\n",
        "except KeyError:\n",
        "    print(\"remove() raises a KeyError if the item does not exist.\")\n",
        "\n",
        "it_companies.discard('NonExistentCompany')\n",
        "print(\"discard() does not raise an error if the item does not exist.\")\n",
        "\n",
        "# Join A and B\n",
        "union_AB = A.union(B)\n",
        "print(f\"Union of A and B: {union_AB}\")\n",
        "\n",
        "# Find A intersection B\n",
        "intersection_AB = A.intersection(B)\n",
        "print(f\"Intersection of A and B: {intersection_AB}\")\n",
        "\n",
        "# Is A subset of B\n",
        "is_A_subset_B = A.issubset(B)\n",
        "print(f\"Is A subset of B: {is_A_subset_B}\")\n",
        "\n",
        "# Are A and B disjoint sets\n",
        "are_A_B_disjoint = A.isdisjoint(B)\n",
        "print(f\"Are A and B disjoint sets: {are_A_B_disjoint}\")\n",
        "\n",
        "# Join A with B and B with A (essentially the union operation)\n",
        "join_A_B = A.union(B)\n",
        "join_B_A = B.union(A)\n",
        "print(f\"Join A with B: {join_A_B}\")\n",
        "print(f\"Join B with A: {join_B_A}\")\n",
        "\n",
        "# What is the symmetric difference between A and B\n",
        "symmetric_difference_AB = A.symmetric_difference(B)\n",
        "print(f\"Symmetric difference between A and B: {symmetric_difference_AB}\")\n",
        "\n",
        "# Delete the sets completely\n",
        "del A\n",
        "del B\n",
        "# Note: Printing A or B after deleting will raise an error because they no longer exist.\n",
        "\n",
        "# Convert the ages to a set and compare the length of the list and the set\n",
        "age_set = set(age)\n",
        "print(f\"Length of age list: {len(age)}\")\n",
        "print(f\"Length of age set: {len(age_set)}\")\n"
      ],
      "metadata": {
        "colab": {
          "base_uri": "https://localhost:8080/"
        },
        "id": "XkHwXgN4zlk6",
        "outputId": "e8dd2d4b-458e-4b3b-e585-7d3e0d7a83bd"
      },
      "execution_count": null,
      "outputs": [
        {
          "output_type": "stream",
          "name": "stdout",
          "text": [
            "Length of it_companies: 7\n",
            "it_companies after adding 'Twitter': {'Google', 'Oracle', 'IBM', 'Twitter', 'Apple', 'Amazon', 'Facebook', 'Microsoft'}\n",
            "it_companies after adding multiple companies: {'Google', 'TCS', 'Twitter', 'Apple', 'Oracle', 'IBM', 'LinkedIn', 'Amazon', 'Facebook', 'Microsoft', 'MuSigma'}\n",
            "it_companies after removing 'Oracle': {'Google', 'TCS', 'Twitter', 'Apple', 'IBM', 'LinkedIn', 'Amazon', 'Facebook', 'Microsoft', 'MuSigma'}\n",
            "remove() raises a KeyError if the item does not exist.\n",
            "discard() does not raise an error if the item does not exist.\n",
            "Union of A and B: {19, 20, 22, 24, 25, 26, 27, 28}\n",
            "Intersection of A and B: {19, 20, 22, 24, 25, 26}\n",
            "Is A subset of B: True\n",
            "Are A and B disjoint sets: False\n",
            "Join A with B: {19, 20, 22, 24, 25, 26, 27, 28}\n",
            "Join B with A: {19, 20, 22, 24, 25, 26, 27, 28}\n",
            "Symmetric difference between A and B: {27, 28}\n",
            "Length of age list: 8\n",
            "Length of age set: 5\n"
          ]
        }
      ]
    },
    {
      "cell_type": "markdown",
      "source": [
        "**Question 5**"
      ],
      "metadata": {
        "id": "Rg8cNSpFJNIQ"
      }
    },
    {
      "cell_type": "code",
      "source": [
        "import math\n",
        "\n",
        "# Given radius\n",
        "radius = 30\n",
        "\n",
        "# Calculate the area of the circle\n",
        "_area_of_circle_ = math.pi * radius * radius\n",
        "\n",
        "# Calculate the circumference of the circle\n",
        "_circum_of_circle_ = 2 * math.pi * radius\n",
        "\n",
        "print(f\"The area of the circle is: {_area_of_circle_} square meters\")\n",
        "print(f\"The circumference of the circle is: {_circum_of_circle_} meters\")\n",
        "\n",
        "# Take radius as user input and calculate the area\n",
        "user_radius = float(input(\"Enter the radius of the circle: \"))\n",
        "\n",
        "# Calculate the area with user input\n",
        "user_area_of_circle = math.pi * user_radius ** 2\n",
        "\n",
        "print(f\"The area of the circle with radius {user_radius} is: {user_area_of_circle} square meters\")\n"
      ],
      "metadata": {
        "colab": {
          "base_uri": "https://localhost:8080/"
        },
        "id": "Ax93Vd7xAI9Y",
        "outputId": "e3882a84-7292-45ca-ca0a-9c3f9a534785"
      },
      "execution_count": null,
      "outputs": [
        {
          "output_type": "stream",
          "name": "stdout",
          "text": [
            "The area of the circle is: 2827.4333882308138 square meters\n",
            "The circumference of the circle is: 188.49555921538757 meters\n",
            "Enter the radius of the circle: 10\n",
            "The area of the circle with radius 10.0 is: 314.1592653589793 square meters\n"
          ]
        }
      ]
    },
    {
      "cell_type": "markdown",
      "source": [
        "In this we calculated the area and circumference of the circle,and also the area based on user input"
      ],
      "metadata": {
        "id": "rctl0xFgQQbw"
      }
    },
    {
      "cell_type": "markdown",
      "source": [
        "**Question 6**"
      ],
      "metadata": {
        "id": "9NIOCJKhJQFz"
      }
    },
    {
      "cell_type": "code",
      "source": [
        "# Given sentence\n",
        "sentence = \"I am a teacher and I love to inspire and teach people\"\n",
        "\n",
        "# Split the sentence into words\n",
        "words = sentence.split()\n",
        "\n",
        "# Convert the list of words to a set to get unique words\n",
        "unique_words = set(words)\n",
        "\n",
        "# Find the number of unique words\n",
        "number_of_unique_words = len(unique_words)\n",
        "\n",
        "print(f\"Unique words: {unique_words}\")\n",
        "print(f\"Number of unique words: {number_of_unique_words}\")\n"
      ],
      "metadata": {
        "colab": {
          "base_uri": "https://localhost:8080/"
        },
        "id": "PWq6BMPRAxbT",
        "outputId": "1cfd6e78-caf6-4d7d-f5b3-73d186024ad4"
      },
      "execution_count": null,
      "outputs": [
        {
          "output_type": "stream",
          "name": "stdout",
          "text": [
            "Unique words: {'inspire', 'love', 'people', 'am', 'I', 'teacher', 'a', 'teach', 'to', 'and'}\n",
            "Number of unique words: 10\n"
          ]
        }
      ]
    },
    {
      "cell_type": "markdown",
      "source": [
        "In this we split the sentence into words and we seperated  the unique words and cal the len of the unique words."
      ],
      "metadata": {
        "id": "6qV-qbiVRWGR"
      }
    },
    {
      "cell_type": "markdown",
      "source": [
        "**Question 7**"
      ],
      "metadata": {
        "id": "H0CbU7iOJ2nn"
      }
    },
    {
      "cell_type": "code",
      "source": [
        "# Print the header\n",
        "print(\"Name\\tAge\\tCountry \\tCity\")\n",
        "\n",
        "# Print the details\n",
        "print(\"Sai\\t22\\tUSA\\t Overland park\")\n"
      ],
      "metadata": {
        "colab": {
          "base_uri": "https://localhost:8080/"
        },
        "id": "zDXqAFVtBXB1",
        "outputId": "c4b9b08c-5b4d-442e-9c1d-9ddb2218418f"
      },
      "execution_count": null,
      "outputs": [
        {
          "output_type": "stream",
          "name": "stdout",
          "text": [
            "Name\tAge\tCountry \tCity\n",
            "Sai\t22\tUSA\t Overland park\n"
          ]
        }
      ]
    },
    {
      "cell_type": "markdown",
      "source": [
        "In this we used \\t This helps to align the output in a tabular format."
      ],
      "metadata": {
        "id": "HOtKe284SWjt"
      }
    },
    {
      "cell_type": "markdown",
      "source": [
        "**Question 8**"
      ],
      "metadata": {
        "id": "x2dZUwcZJ7Rr"
      }
    },
    {
      "cell_type": "code",
      "source": [
        "# Given values\n",
        "radius = 10\n",
        "area = 3.14 * radius ** 2\n",
        "\n",
        "# Using f-string for string formatting\n",
        "formatted_string = f\"The area of a circle with radius {radius} is {area} meters square.\"\n",
        "\n",
        "# Print the result\n",
        "print(formatted_string)\n"
      ],
      "metadata": {
        "colab": {
          "base_uri": "https://localhost:8080/"
        },
        "id": "VzRO8sQPCdKS",
        "outputId": "5684394b-9173-4521-d701-17b487800a20"
      },
      "execution_count": null,
      "outputs": [
        {
          "output_type": "stream",
          "name": "stdout",
          "text": [
            "The area of a circle with radius 10 is 314.0 meters square.\n"
          ]
        }
      ]
    },
    {
      "cell_type": "markdown",
      "source": [
        "**Question 9**"
      ],
      "metadata": {
        "id": "IEUArlrdJ_mj"
      }
    },
    {
      "cell_type": "code",
      "source": [
        "# Function to convert lbs to kg\n",
        "def lbs_to_kg(weight_lbs):\n",
        "    return round(weight_lbs * 0.453592, 2)\n",
        "\n",
        "# Read the number of students\n",
        "N = int(input(\"Enter the number of students: \"))\n",
        "\n",
        "# Initialize an empty list to store weights in lbs\n",
        "weights_lbs = []\n",
        "\n",
        "# Read weights in lbs from the user\n",
        "print(f\"Enter the weights of {N} students in lbs:\")\n",
        "for _ in range(N):\n",
        "    weight = float(input())\n",
        "    weights_lbs.append(weight)\n",
        "\n",
        "# Initialize an empty list to store weights in kg\n",
        "weights_kg = []\n",
        "\n",
        "# Convert each weight to kg and store in the new list\n",
        "for weight in weights_lbs:\n",
        "    weights_kg.append(lbs_to_kg(weight))\n",
        "\n",
        "# Print the original and converted weights\n",
        "print(\"Weights in lbs:\", weights_lbs)\n",
        "print(\"Weights in kg:\", weights_kg)\n"
      ],
      "metadata": {
        "colab": {
          "base_uri": "https://localhost:8080/"
        },
        "id": "wodfboRhCvRW",
        "outputId": "a11cf891-31b0-4f4f-c860-69c1ba4cb0fe"
      },
      "execution_count": null,
      "outputs": [
        {
          "output_type": "stream",
          "name": "stdout",
          "text": [
            "Enter the number of students: 4\n",
            "Enter the weights of 4 students in lbs:\n",
            "150\n",
            "155\n",
            "145\n",
            "148\n",
            "Weights in lbs: [150.0, 155.0, 145.0, 148.0]\n",
            "Weights in kg: [68.04, 70.31, 65.77, 67.13]\n"
          ]
        }
      ]
    }
  ]
}